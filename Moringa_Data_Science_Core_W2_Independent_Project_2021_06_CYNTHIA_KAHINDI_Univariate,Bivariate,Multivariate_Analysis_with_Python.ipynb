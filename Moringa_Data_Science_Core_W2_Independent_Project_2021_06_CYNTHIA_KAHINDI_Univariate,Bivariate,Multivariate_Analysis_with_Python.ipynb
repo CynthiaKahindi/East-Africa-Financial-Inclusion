{
  "nbformat": 4,
  "nbformat_minor": 0,
  "metadata": {
    "colab": {
      "name": "Moringa_Data_Science_Core_W2_Independent_Project_2021_06_CYNTHIA_KAHINDI_Univariate,Bivariate,Multivariate Analysis with Python ",
      "provenance": [],
      "collapsed_sections": [
        "kLkivweO1Iii",
        "InrgA2D21MCl",
        "0CRs-dFC1ohx",
        "ck0zE_a43uV-",
        "NCrhoYJz1dUY",
        "jRKV0pa04BQH",
        "yXH8QAl71vLq",
        "6lNbN0xS4XAY",
        "QIuhupEZ1y_S",
        "GqietlVA2BUa",
        "Z6im-o4g4pK6",
        "8POt4f4D2LcH",
        "xumXllAg5A6N",
        "kKZFF5-Q6d5c",
        "32s_izI76icw",
        "DHNDapES6-4D",
        "NqN2REVg6xM7",
        "uXIKUeun7Tz6"
      ],
      "toc_visible": true,
      "include_colab_link": true
    },
    "kernelspec": {
      "name": "python3",
      "display_name": "Python 3"
    }
  },
  "cells": [
    {
      "cell_type": "markdown",
      "metadata": {
        "id": "view-in-github",
        "colab_type": "text"
      },
      "source": [
        "<a href=\"https://colab.research.google.com/github/CynthiaKahindi/East-Africa-Financial-Inclusion/blob/main/Moringa_Data_Science_Core_W2_Independent_Project_2021_06_CYNTHIA_KAHINDI_Univariate%2CBivariate%2CMultivariate_Analysis_with_Python.ipynb\" target=\"_parent\"><img src=\"https://colab.research.google.com/assets/colab-badge.svg\" alt=\"Open In Colab\"/></a>"
      ]
    },
    {
      "cell_type": "markdown",
      "metadata": {
        "id": "FtNfyN9C1FSE"
      },
      "source": [
        "# Univariate,Bivariate,MultiVariate Analysis with Python"
      ]
    },
    {
      "cell_type": "markdown",
      "metadata": {
        "id": "kLkivweO1Iii"
      },
      "source": [
        "Importing Libraries"
      ]
    },
    {
      "cell_type": "code",
      "metadata": {
        "id": "7rB0TURq1Mfo"
      },
      "source": [
        "# Importing Pandas\n",
        "# \n",
        "import pandas as pd"
      ],
      "execution_count": 113,
      "outputs": []
    },
    {
      "cell_type": "code",
      "metadata": {
        "id": "J7sTS1pS6w17"
      },
      "source": [
        "# Importing Numpy\n",
        "#\n",
        "import numpy as np"
      ],
      "execution_count": 114,
      "outputs": []
    },
    {
      "cell_type": "code",
      "metadata": {
        "id": "T7fU_A8G3j2c"
      },
      "source": [
        "# Importing Seaborn\n",
        "#\n",
        "import seaborn as sns"
      ],
      "execution_count": 115,
      "outputs": []
    },
    {
      "cell_type": "code",
      "metadata": {
        "id": "h9m2KAfqKr_R"
      },
      "source": [
        "# Importing Matplotlib\n",
        "#\n",
        "import matplotlib.pyplot as plt"
      ],
      "execution_count": 116,
      "outputs": []
    },
    {
      "cell_type": "markdown",
      "metadata": {
        "id": "IdlPMnWp7I5b"
      },
      "source": [
        "\n",
        "**a) Specifying the Data Analytic Question**\n"
      ]
    },
    {
      "cell_type": "markdown",
      "metadata": {
        "id": "Qrr2WEDu-Nnl"
      },
      "source": [
        "Who is most likely to have or own  a bank account in Kenya,Rwanda,Tanzania and Uganda?"
      ]
    },
    {
      "cell_type": "markdown",
      "metadata": {
        "id": "t60T0cs57hxg"
      },
      "source": [
        "**b) Defining the Metric for Success**"
      ]
    },
    {
      "cell_type": "markdown",
      "metadata": {
        "id": "NSYvnDhR_cZr"
      },
      "source": [
        "Financial inclusion of target groups"
      ]
    },
    {
      "cell_type": "markdown",
      "metadata": {
        "id": "n5GJg9I27jKn"
      },
      "source": [
        "**c) Understanding the context**"
      ]
    },
    {
      "cell_type": "markdown",
      "metadata": {
        "id": "ELwCeUEMANiy"
      },
      "source": [
        "In Kenya, Rwanda, Tanzania, and Uganda only 9.1 million adults (or 13.9% of the adult population) have access to or use a commercial bank account.This reflects financial exclusion.This study seeks to point out the target groups who are represented by the rest of the more than 85.1% so that financial inclusion can be a reality.\n"
      ]
    },
    {
      "cell_type": "markdown",
      "metadata": {
        "id": "cpvMvoTW72XM"
      },
      "source": [
        "**d)Loading data set**"
      ]
    },
    {
      "cell_type": "code",
      "metadata": {
        "colab": {
          "base_uri": "https://localhost:8080/",
          "height": 372
        },
        "id": "crpJOFCSBjIc",
        "outputId": "147475b7-d739-4ac1-d7fc-5867956cfb2a"
      },
      "source": [
        "#The main dataset contains demographic information and what financial services are used by individuals across East Africa.\n",
        "#This data was extracted from various Finscope surveys ranging from 2016 to 2018\n",
        "#Loading our data set\n",
        "data=pd.read_csv('/content/Financial Dataset - 1 (1).csv')\n",
        "data.head()"
      ],
      "execution_count": 117,
      "outputs": [
        {
          "output_type": "execute_result",
          "data": {
            "text/html": [
              "<div>\n",
              "<style scoped>\n",
              "    .dataframe tbody tr th:only-of-type {\n",
              "        vertical-align: middle;\n",
              "    }\n",
              "\n",
              "    .dataframe tbody tr th {\n",
              "        vertical-align: top;\n",
              "    }\n",
              "\n",
              "    .dataframe thead th {\n",
              "        text-align: right;\n",
              "    }\n",
              "</style>\n",
              "<table border=\"1\" class=\"dataframe\">\n",
              "  <thead>\n",
              "    <tr style=\"text-align: right;\">\n",
              "      <th></th>\n",
              "      <th>country</th>\n",
              "      <th>year</th>\n",
              "      <th>uniqueid</th>\n",
              "      <th>Has a Bank account</th>\n",
              "      <th>Type of Location</th>\n",
              "      <th>Cell Phone Access</th>\n",
              "      <th>household_size</th>\n",
              "      <th>Respondent Age</th>\n",
              "      <th>gender_of_respondent</th>\n",
              "      <th>The relathip with head</th>\n",
              "      <th>marital_status</th>\n",
              "      <th>Level of Educuation</th>\n",
              "      <th>Type of Job</th>\n",
              "    </tr>\n",
              "  </thead>\n",
              "  <tbody>\n",
              "    <tr>\n",
              "      <th>0</th>\n",
              "      <td>Kenya</td>\n",
              "      <td>2018</td>\n",
              "      <td>uniqueid_1</td>\n",
              "      <td>Yes</td>\n",
              "      <td>Rural</td>\n",
              "      <td>Yes</td>\n",
              "      <td>3.0</td>\n",
              "      <td>24.0</td>\n",
              "      <td>Female</td>\n",
              "      <td>Spouse</td>\n",
              "      <td>Married/Living together</td>\n",
              "      <td>Secondary education</td>\n",
              "      <td>Self employed</td>\n",
              "    </tr>\n",
              "    <tr>\n",
              "      <th>1</th>\n",
              "      <td>Kenya</td>\n",
              "      <td>2018</td>\n",
              "      <td>uniqueid_2</td>\n",
              "      <td>No</td>\n",
              "      <td>Rural</td>\n",
              "      <td>No</td>\n",
              "      <td>5.0</td>\n",
              "      <td>70.0</td>\n",
              "      <td>Female</td>\n",
              "      <td>Head of Household</td>\n",
              "      <td>Widowed</td>\n",
              "      <td>No formal education</td>\n",
              "      <td>Government Dependent</td>\n",
              "    </tr>\n",
              "    <tr>\n",
              "      <th>2</th>\n",
              "      <td>Kenya</td>\n",
              "      <td>2018</td>\n",
              "      <td>uniqueid_3</td>\n",
              "      <td>Yes</td>\n",
              "      <td>Urban</td>\n",
              "      <td>Yes</td>\n",
              "      <td>5.0</td>\n",
              "      <td>26.0</td>\n",
              "      <td>Male</td>\n",
              "      <td>Other relative</td>\n",
              "      <td>Single/Never Married</td>\n",
              "      <td>Vocational/Specialised training</td>\n",
              "      <td>Self employed</td>\n",
              "    </tr>\n",
              "    <tr>\n",
              "      <th>3</th>\n",
              "      <td>Kenya</td>\n",
              "      <td>2018</td>\n",
              "      <td>uniqueid_4</td>\n",
              "      <td>No</td>\n",
              "      <td>Rural</td>\n",
              "      <td>Yes</td>\n",
              "      <td>5.0</td>\n",
              "      <td>34.0</td>\n",
              "      <td>Female</td>\n",
              "      <td>Head of Household</td>\n",
              "      <td>Married/Living together</td>\n",
              "      <td>Primary education</td>\n",
              "      <td>Formally employed Private</td>\n",
              "    </tr>\n",
              "    <tr>\n",
              "      <th>4</th>\n",
              "      <td>Kenya</td>\n",
              "      <td>2018</td>\n",
              "      <td>uniqueid_5</td>\n",
              "      <td>No</td>\n",
              "      <td>Urban</td>\n",
              "      <td>No</td>\n",
              "      <td>8.0</td>\n",
              "      <td>26.0</td>\n",
              "      <td>Male</td>\n",
              "      <td>Child</td>\n",
              "      <td>Single/Never Married</td>\n",
              "      <td>Primary education</td>\n",
              "      <td>Informally employed</td>\n",
              "    </tr>\n",
              "  </tbody>\n",
              "</table>\n",
              "</div>"
            ],
            "text/plain": [
              "  country  year  ...              Level of Educuation                Type of Job\n",
              "0   Kenya  2018  ...              Secondary education              Self employed\n",
              "1   Kenya  2018  ...              No formal education       Government Dependent\n",
              "2   Kenya  2018  ...  Vocational/Specialised training              Self employed\n",
              "3   Kenya  2018  ...                Primary education  Formally employed Private\n",
              "4   Kenya  2018  ...                Primary education        Informally employed\n",
              "\n",
              "[5 rows x 13 columns]"
            ]
          },
          "metadata": {
            "tags": []
          },
          "execution_count": 117
        }
      ]
    },
    {
      "cell_type": "markdown",
      "metadata": {
        "id": "qkVGUMGK88iE"
      },
      "source": [
        "**e)Tidying the Dataset**"
      ]
    },
    {
      "cell_type": "code",
      "metadata": {
        "colab": {
          "base_uri": "https://localhost:8080/",
          "height": 372
        },
        "id": "s5xDepN6Bk9j",
        "outputId": "0cd7ec9a-1894-4749-8892-82a55c67b44a"
      },
      "source": [
        "#cleaning unnecessary rows\n",
        "data.dropna()\n",
        "\n",
        "#dropping year and unique id columns\n",
        "#data.drop(['year','uniqueid'],axis=0,inplace=True)\n",
        "data.head()"
      ],
      "execution_count": 118,
      "outputs": [
        {
          "output_type": "execute_result",
          "data": {
            "text/html": [
              "<div>\n",
              "<style scoped>\n",
              "    .dataframe tbody tr th:only-of-type {\n",
              "        vertical-align: middle;\n",
              "    }\n",
              "\n",
              "    .dataframe tbody tr th {\n",
              "        vertical-align: top;\n",
              "    }\n",
              "\n",
              "    .dataframe thead th {\n",
              "        text-align: right;\n",
              "    }\n",
              "</style>\n",
              "<table border=\"1\" class=\"dataframe\">\n",
              "  <thead>\n",
              "    <tr style=\"text-align: right;\">\n",
              "      <th></th>\n",
              "      <th>country</th>\n",
              "      <th>year</th>\n",
              "      <th>uniqueid</th>\n",
              "      <th>Has a Bank account</th>\n",
              "      <th>Type of Location</th>\n",
              "      <th>Cell Phone Access</th>\n",
              "      <th>household_size</th>\n",
              "      <th>Respondent Age</th>\n",
              "      <th>gender_of_respondent</th>\n",
              "      <th>The relathip with head</th>\n",
              "      <th>marital_status</th>\n",
              "      <th>Level of Educuation</th>\n",
              "      <th>Type of Job</th>\n",
              "    </tr>\n",
              "  </thead>\n",
              "  <tbody>\n",
              "    <tr>\n",
              "      <th>0</th>\n",
              "      <td>Kenya</td>\n",
              "      <td>2018</td>\n",
              "      <td>uniqueid_1</td>\n",
              "      <td>Yes</td>\n",
              "      <td>Rural</td>\n",
              "      <td>Yes</td>\n",
              "      <td>3.0</td>\n",
              "      <td>24.0</td>\n",
              "      <td>Female</td>\n",
              "      <td>Spouse</td>\n",
              "      <td>Married/Living together</td>\n",
              "      <td>Secondary education</td>\n",
              "      <td>Self employed</td>\n",
              "    </tr>\n",
              "    <tr>\n",
              "      <th>1</th>\n",
              "      <td>Kenya</td>\n",
              "      <td>2018</td>\n",
              "      <td>uniqueid_2</td>\n",
              "      <td>No</td>\n",
              "      <td>Rural</td>\n",
              "      <td>No</td>\n",
              "      <td>5.0</td>\n",
              "      <td>70.0</td>\n",
              "      <td>Female</td>\n",
              "      <td>Head of Household</td>\n",
              "      <td>Widowed</td>\n",
              "      <td>No formal education</td>\n",
              "      <td>Government Dependent</td>\n",
              "    </tr>\n",
              "    <tr>\n",
              "      <th>2</th>\n",
              "      <td>Kenya</td>\n",
              "      <td>2018</td>\n",
              "      <td>uniqueid_3</td>\n",
              "      <td>Yes</td>\n",
              "      <td>Urban</td>\n",
              "      <td>Yes</td>\n",
              "      <td>5.0</td>\n",
              "      <td>26.0</td>\n",
              "      <td>Male</td>\n",
              "      <td>Other relative</td>\n",
              "      <td>Single/Never Married</td>\n",
              "      <td>Vocational/Specialised training</td>\n",
              "      <td>Self employed</td>\n",
              "    </tr>\n",
              "    <tr>\n",
              "      <th>3</th>\n",
              "      <td>Kenya</td>\n",
              "      <td>2018</td>\n",
              "      <td>uniqueid_4</td>\n",
              "      <td>No</td>\n",
              "      <td>Rural</td>\n",
              "      <td>Yes</td>\n",
              "      <td>5.0</td>\n",
              "      <td>34.0</td>\n",
              "      <td>Female</td>\n",
              "      <td>Head of Household</td>\n",
              "      <td>Married/Living together</td>\n",
              "      <td>Primary education</td>\n",
              "      <td>Formally employed Private</td>\n",
              "    </tr>\n",
              "    <tr>\n",
              "      <th>4</th>\n",
              "      <td>Kenya</td>\n",
              "      <td>2018</td>\n",
              "      <td>uniqueid_5</td>\n",
              "      <td>No</td>\n",
              "      <td>Urban</td>\n",
              "      <td>No</td>\n",
              "      <td>8.0</td>\n",
              "      <td>26.0</td>\n",
              "      <td>Male</td>\n",
              "      <td>Child</td>\n",
              "      <td>Single/Never Married</td>\n",
              "      <td>Primary education</td>\n",
              "      <td>Informally employed</td>\n",
              "    </tr>\n",
              "  </tbody>\n",
              "</table>\n",
              "</div>"
            ],
            "text/plain": [
              "  country  year  ...              Level of Educuation                Type of Job\n",
              "0   Kenya  2018  ...              Secondary education              Self employed\n",
              "1   Kenya  2018  ...              No formal education       Government Dependent\n",
              "2   Kenya  2018  ...  Vocational/Specialised training              Self employed\n",
              "3   Kenya  2018  ...                Primary education  Formally employed Private\n",
              "4   Kenya  2018  ...                Primary education        Informally employed\n",
              "\n",
              "[5 rows x 13 columns]"
            ]
          },
          "metadata": {
            "tags": []
          },
          "execution_count": 118
        }
      ]
    },
    {
      "cell_type": "code",
      "metadata": {
        "colab": {
          "base_uri": "https://localhost:8080/",
          "height": 353
        },
        "id": "PPUkCCKYHfPi",
        "outputId": "05dd66ff-f582-40e4-aec2-3eabfdb83306"
      },
      "source": [
        "#checking for outliers\n",
        "# A boxplot is a standardized way of displaying the distribution of data based on a \n",
        "# five number summary (“minimum”, first quartile (Q1), median, third quartile (Q3), and “maximum”). \n",
        "# It can tell you about your outliers and what their values are. It can also tell you if your data is symmetrical, \n",
        "# how tightly your data is grouped, and if and how your data is skewed.\n",
        "data=pd.read_csv('/content/Financial Dataset - 1 (1).csv')\n",
        "data[\"household_size\"]\n",
        "# Creating the boxplot\n",
        "#\n",
        "sns.boxplot(data[\"household_size\"], showmeans=True)\n"
      ],
      "execution_count": 119,
      "outputs": [
        {
          "output_type": "stream",
          "text": [
            "/usr/local/lib/python3.7/dist-packages/seaborn/_decorators.py:43: FutureWarning: Pass the following variable as a keyword arg: x. From version 0.12, the only valid positional argument will be `data`, and passing other arguments without an explicit keyword will result in an error or misinterpretation.\n",
            "  FutureWarning\n"
          ],
          "name": "stderr"
        },
        {
          "output_type": "execute_result",
          "data": {
            "text/plain": [
              "<matplotlib.axes._subplots.AxesSubplot at 0x7fa3afe73810>"
            ]
          },
          "metadata": {
            "tags": []
          },
          "execution_count": 119
        },
        {
          "output_type": "display_data",
          "data": {
            "image/png": "[encoded data removed]",
            "text/plain": [
              "<Figure size 432x288 with 1 Axes>"
            ]
          },
          "metadata": {
            "tags": [],
            "needs_background": "light"
          }
        }
      ]
    },
    {
      "cell_type": "code",
      "metadata": {
        "colab": {
          "base_uri": "https://localhost:8080/"
        },
        "id": "vD2lgG3LInJ1",
        "outputId": "8f270bc3-4358-4526-d211-d791f03c3d47"
      },
      "source": [
        "#dropping outliers\n",
        "\n",
        "\n",
        "Q1 = np.percentile(data['household_size'], 25, \n",
        "                   interpolation = 'midpoint') \n",
        "  \n",
        "Q3 = np.percentile(data['household_size'], 75,\n",
        "                   interpolation = 'midpoint') \n",
        "IQR = Q3 - Q1 \n",
        "  \n",
        "print(data.shape) \n",
        "  \n",
        "# Upper limit\n",
        "upper = np.where(data['household_size'] >= (Q3+1.5*IQR))\n",
        "# Lower limit\n",
        "lower = np.where(data['household_size'] <= (Q1-1.5*IQR))\n",
        "  \n",
        "data.drop(upper[0], inplace = True)\n",
        "data.drop(lower[0], inplace = True)\n",
        "  \n",
        "print(data.shape)\n",
        "\n"
      ],
      "execution_count": 120,
      "outputs": [
        {
          "output_type": "stream",
          "text": [
            "(23524, 13)\n",
            "(23524, 13)\n"
          ],
          "name": "stdout"
        }
      ]
    },
    {
      "cell_type": "markdown",
      "metadata": {
        "id": "lVsv7PwK6qBb"
      },
      "source": [
        "ANALYSIS\n"
      ]
    },
    {
      "cell_type": "markdown",
      "metadata": {
        "id": "AescUZoO9uqT"
      },
      "source": [
        "**Univariate Analysis**"
      ]
    },
    {
      "cell_type": "markdown",
      "metadata": {
        "id": "0CRs-dFC1ohx"
      },
      "source": [
        "Frequency Tables"
      ]
    },
    {
      "cell_type": "code",
      "metadata": {
        "id": "S1BPZ36A1LiF",
        "colab": {
          "base_uri": "https://localhost:8080/"
        },
        "outputId": "795c3af7-54ec-49a2-9fcc-745dc526752f"
      },
      "source": [
        "\n",
        "# ---\n",
        "# Creating Frequency table of column using the value_counts() function\n",
        "# ---\n",
        "\n",
        "#Type of Location\n",
        "#Has a Bank account\n",
        "#Cell Phone Access\n",
        "#gender_of_respondent\n",
        "#marital_status\n",
        "#Level of Educuation\n",
        "#Type of Job\n",
        "# \n",
        "#creating data frame\n",
        "data=pd.read_csv('/content/Financial Dataset - 1 (1).csv')\n",
        "\n",
        "frequency_df=pd.DataFrame(data,columns=['Has a bank account', 'country'])\n",
        "frequency_df\n",
        "\n",
        "# Creating our frequency table\n",
        "\n",
        "frequency_df.country.value_counts()"
      ],
      "execution_count": 121,
      "outputs": [
        {
          "output_type": "execute_result",
          "data": {
            "text/plain": [
              "Rwanda      8735\n",
              "Tanzania    6606\n",
              "Kenya       6068\n",
              "Uganda      2101\n",
              "Name: country, dtype: int64"
            ]
          },
          "metadata": {
            "tags": []
          },
          "execution_count": 121
        }
      ]
    },
    {
      "cell_type": "markdown",
      "metadata": {
        "id": "NCrhoYJz1dUY"
      },
      "source": [
        "Bar Charts and Histograms"
      ]
    },
    {
      "cell_type": "code",
      "metadata": {
        "id": "eGXHLiBY8jbI",
        "colab": {
          "base_uri": "https://localhost:8080/",
          "height": 282
        },
        "outputId": "44242e11-d94a-4751-f637-40182a18d9f4"
      },
      "source": [
        "\n",
        "# Creating a histogram from a given dataset using values from the points column\n",
        "\n",
        "\n",
        "# Loading out dataset\n",
        "# Importing Matplotlib\n",
        "#\n",
        "import matplotlib.pyplot as plt\n",
        "import numpy as np\n",
        "import pandas as pd\n",
        "import seaborn as sns\n",
        "\n",
        "\n",
        "data=pd.read_csv('/content/Financial Dataset - 1 (1).csv',sep=',')\n",
        "data['Has a Bank account'].hist()\n",
        "#data['country'] = (data['country'].apply(lambda x: str (x.split()[0].replace(',', '')))\n",
        "#data.hist(bins=10)\n",
        "#plt.xlabel('country')\n",
        "#plt.ylabel('Quantity')\n",
        "#plt.title('Histogram of People with accounts')\n",
        "#plot.show()"
      ],
      "execution_count": 122,
      "outputs": [
        {
          "output_type": "execute_result",
          "data": {
            "text/plain": [
              "<matplotlib.axes._subplots.AxesSubplot at 0x7fa3b2b75250>"
            ]
          },
          "metadata": {
            "tags": []
          },
          "execution_count": 122
        },
        {
          "output_type": "display_data",
          "data": {
            "image/png": "[encoded data removed]",
            "text/plain": [
              "<Figure size 432x288 with 1 Axes>"
            ]
          },
          "metadata": {
            "tags": [],
            "needs_background": "light"
          }
        }
      ]
    },
    {
      "cell_type": "code",
      "metadata": {
        "colab": {
          "base_uri": "https://localhost:8080/",
          "height": 282
        },
        "id": "mk2c3UmG3K6Z",
        "outputId": "baae229f-6548-4641-8fc0-1155cfdf6c06"
      },
      "source": [
        "data=pd.read_csv('/content/Financial Dataset - 1 (1).csv',sep=',')\n",
        "data['country'].hist()"
      ],
      "execution_count": 123,
      "outputs": [
        {
          "output_type": "execute_result",
          "data": {
            "text/plain": [
              "<matplotlib.axes._subplots.AxesSubplot at 0x7fa3b116edd0>"
            ]
          },
          "metadata": {
            "tags": []
          },
          "execution_count": 123
        },
        {
          "output_type": "display_data",
          "data": {
            "image/png": "[encoded data removed]",
            "text/plain": [
              "<Figure size 432x288 with 1 Axes>"
            ]
          },
          "metadata": {
            "tags": [],
            "needs_background": "light"
          }
        }
      ]
    },
    {
      "cell_type": "code",
      "metadata": {
        "colab": {
          "base_uri": "https://localhost:8080/",
          "height": 282
        },
        "id": "29FV8Ote3KY3",
        "outputId": "def24c85-5d28-4192-8b57-39493cd24266"
      },
      "source": [
        "data=pd.read_csv('/content/Financial Dataset - 1 (1).csv',sep=',')\n",
        "data['Cell Phone Access'].hist()"
      ],
      "execution_count": 124,
      "outputs": [
        {
          "output_type": "execute_result",
          "data": {
            "text/plain": [
              "<matplotlib.axes._subplots.AxesSubplot at 0x7fa3af3e9750>"
            ]
          },
          "metadata": {
            "tags": []
          },
          "execution_count": 124
        },
        {
          "output_type": "display_data",
          "data": {
            "image/png": "[encoded data removed]",
            "text/plain": [
              "<Figure size 432x288 with 1 Axes>"
            ]
          },
          "metadata": {
            "tags": [],
            "needs_background": "light"
          }
        }
      ]
    },
    {
      "cell_type": "code",
      "metadata": {
        "colab": {
          "base_uri": "https://localhost:8080/",
          "height": 282
        },
        "id": "RY2WLe3y3J7t",
        "outputId": "5127a29a-7791-4a28-d96d-f2a8f0b342c1"
      },
      "source": [
        "data=pd.read_csv('/content/Financial Dataset - 1 (1).csv',sep=',')\n",
        "data['household_size'].hist()"
      ],
      "execution_count": 125,
      "outputs": [
        {
          "output_type": "execute_result",
          "data": {
            "text/plain": [
              "<matplotlib.axes._subplots.AxesSubplot at 0x7fa3b11ec690>"
            ]
          },
          "metadata": {
            "tags": []
          },
          "execution_count": 125
        },
        {
          "output_type": "display_data",
          "data": {
            "image/png": "[encoded data removed]",
            "text/plain": [
              "<Figure size 432x288 with 1 Axes>"
            ]
          },
          "metadata": {
            "tags": [],
            "needs_background": "light"
          }
        }
      ]
    },
    {
      "cell_type": "code",
      "metadata": {
        "colab": {
          "base_uri": "https://localhost:8080/",
          "height": 282
        },
        "id": "eWpgXKiM3JmX",
        "outputId": "a1b06906-e6c0-460a-d54c-9bbcd883f0cc"
      },
      "source": [
        "data=pd.read_csv('/content/Financial Dataset - 1 (1).csv',sep=',')\n",
        "data['Type of Location'].hist()"
      ],
      "execution_count": 126,
      "outputs": [
        {
          "output_type": "execute_result",
          "data": {
            "text/plain": [
              "<matplotlib.axes._subplots.AxesSubplot at 0x7fa3af363590>"
            ]
          },
          "metadata": {
            "tags": []
          },
          "execution_count": 126
        },
        {
          "output_type": "display_data",
          "data": {
            "image/png": "[encoded data removed]",
            "text/plain": [
              "<Figure size 432x288 with 1 Axes>"
            ]
          },
          "metadata": {
            "tags": [],
            "needs_background": "light"
          }
        }
      ]
    },
    {
      "cell_type": "markdown",
      "metadata": {
        "id": "QIuhupEZ1y_S"
      },
      "source": [
        "Numerical Variables"
      ]
    },
    {
      "cell_type": "markdown",
      "metadata": {
        "id": "GqietlVA2BUa"
      },
      "source": [
        "Measures of Central Tendency"
      ]
    },
    {
      "cell_type": "code",
      "metadata": {
        "id": "u_W0Wibz13A8",
        "colab": {
          "base_uri": "https://localhost:8080/"
        },
        "outputId": "02997504-0a84-4d32-98d6-4a6e0d633c93"
      },
      "source": [
        "# Mean\n",
        "\n",
        "# Loading the dataset\n",
        "\n",
        "\n",
        "mean=pd.read_csv('/content/Financial Dataset - 1 (1).csv')\n",
        "\n",
        "# Previewing the dataset\n",
        "# mean.head()\n",
        "\n",
        "# Finding the mean\n",
        "mean[\"household_size\"].mean()"
      ],
      "execution_count": 127,
      "outputs": [
        {
          "output_type": "execute_result",
          "data": {
            "text/plain": [
              "3.6818181818181817"
            ]
          },
          "metadata": {
            "tags": []
          },
          "execution_count": 127
        }
      ]
    },
    {
      "cell_type": "code",
      "metadata": {
        "id": "2DPrdaoc16tZ",
        "colab": {
          "base_uri": "https://localhost:8080/"
        },
        "outputId": "2cb46258-e17f-4636-c2e1-8dd858ee21cc"
      },
      "source": [
        "# Median\n",
        "# Median is the value which divides the data in 2 equal parts i.e. number of terms on right side of it \n",
        "# is same as number of terms on left side of it when data is arranged in either ascending or descending order.\n",
        "\n",
        "mean=pd.read_csv('/content/Financial Dataset - 1 (1).csv')\n",
        "mean[\"household_size\"].median()"
      ],
      "execution_count": 128,
      "outputs": [
        {
          "output_type": "execute_result",
          "data": {
            "text/plain": [
              "3.0"
            ]
          },
          "metadata": {
            "tags": []
          },
          "execution_count": 128
        }
      ]
    },
    {
      "cell_type": "code",
      "metadata": {
        "id": "eYO9eGyH125E",
        "colab": {
          "base_uri": "https://localhost:8080/"
        },
        "outputId": "3a42ac31-1061-4c8c-d17a-e825e76558ee"
      },
      "source": [
        "# Mode \n",
        "# Mode is the term appearing maximum time in data set i.e. term that has highest frequency.\n",
        "mean=pd.read_csv('/content/Financial Dataset - 1 (1).csv')\n",
        "mean[\"household_size\"].mode()"
      ],
      "execution_count": 129,
      "outputs": [
        {
          "output_type": "execute_result",
          "data": {
            "text/plain": [
              "0    2.0\n",
              "dtype: float64"
            ]
          },
          "metadata": {
            "tags": []
          },
          "execution_count": 129
        }
      ]
    },
    {
      "cell_type": "markdown",
      "metadata": {
        "id": "8POt4f4D2LcH"
      },
      "source": [
        "**Measures** **of** **Dispersion**/**Variability**/**Spread**\n"
      ]
    },
    {
      "cell_type": "code",
      "metadata": {
        "id": "kZeJoLg_2R3Q",
        "colab": {
          "base_uri": "https://localhost:8080/"
        },
        "outputId": "09e728b4-9554-4fd3-9e11-900fa065bee0"
      },
      "source": [
        "# Standard Deviation  \n",
        "# Standard deviation is the measurement of average distance between each quantity and mean. \n",
        "mean=pd.read_csv('/content/Financial Dataset - 1 (1).csv')\n",
        "mean[\"household_size\"].std()"
      ],
      "execution_count": 130,
      "outputs": [
        {
          "output_type": "execute_result",
          "data": {
            "text/plain": [
              "2.279933399631944"
            ]
          },
          "metadata": {
            "tags": []
          },
          "execution_count": 130
        }
      ]
    },
    {
      "cell_type": "code",
      "metadata": {
        "id": "P8vUwmx3-8iB",
        "colab": {
          "base_uri": "https://localhost:8080/"
        },
        "outputId": "0e408ea6-85fb-444f-e27f-f03db46694f3"
      },
      "source": [
        "# Variance\n",
        "# Variance is a square of average distance between each quantity and mean. \n",
        "mean=pd.read_csv('/content/Financial Dataset - 1 (1).csv')\n",
        "mean[\"household_size\"].var()"
      ],
      "execution_count": 131,
      "outputs": [
        {
          "output_type": "execute_result",
          "data": {
            "text/plain": [
              "5.198096306757275"
            ]
          },
          "metadata": {
            "tags": []
          },
          "execution_count": 131
        }
      ]
    },
    {
      "cell_type": "code",
      "metadata": {
        "id": "j73naeos2RRR",
        "colab": {
          "base_uri": "https://localhost:8080/"
        },
        "outputId": "23d731c9-9bca-44df-cfc5-50063cd21d8c"
      },
      "source": [
        "# Range\n",
        "mean=pd.read_csv('/content/Financial Dataset - 1 (1).csv')\n",
        "# Finding the min and max values of the house hold size that was under investigation\n",
        "mean_max = mean[\"household_size\"].max()\n",
        "mean_min=mean['household_size'].min()\n",
        "\n",
        "# Calculating the range\n",
        "mean_max-mean_min"
      ],
      "execution_count": 132,
      "outputs": [
        {
          "output_type": "execute_result",
          "data": {
            "text/plain": [
              "21.0"
            ]
          },
          "metadata": {
            "tags": []
          },
          "execution_count": 132
        }
      ]
    },
    {
      "cell_type": "code",
      "metadata": {
        "id": "UobGI2kj2Q3Y",
        "colab": {
          "base_uri": "https://localhost:8080/"
        },
        "outputId": "19763991-673a-4e78-c431-b652f4dd042e"
      },
      "source": [
        "# Quantiles \n",
        "\n",
        "# Finding the quantiles of the households available\n",
        "mean=pd.read_csv('/content/Financial Dataset - 1 (1).csv')\n",
        "mean[\"household_size\"].quantile([0.25,0.5,0.75])"
      ],
      "execution_count": 133,
      "outputs": [
        {
          "output_type": "execute_result",
          "data": {
            "text/plain": [
              "0.25    2.0\n",
              "0.50    3.0\n",
              "0.75    5.0\n",
              "Name: household_size, dtype: float64"
            ]
          },
          "metadata": {
            "tags": []
          },
          "execution_count": 133
        }
      ]
    },
    {
      "cell_type": "code",
      "metadata": {
        "id": "j_9rzQpe3UEE",
        "colab": {
          "base_uri": "https://localhost:8080/"
        },
        "outputId": "db59ce5b-7c9b-48ea-aafe-34663c002272"
      },
      "source": [
        "#Skewness\n",
        "mean=pd.read_csv('/content/Financial Dataset - 1 (1).csv')\n",
        "mean[\"household_size\"].skew()"
      ],
      "execution_count": 134,
      "outputs": [
        {
          "output_type": "execute_result",
          "data": {
            "text/plain": [
              "0.977652354434429"
            ]
          },
          "metadata": {
            "tags": []
          },
          "execution_count": 134
        }
      ]
    },
    {
      "cell_type": "code",
      "metadata": {
        "id": "HTwjeGEy3XAB",
        "colab": {
          "base_uri": "https://localhost:8080/"
        },
        "outputId": "af6d3523-c7fb-4a06-bbd2-ab9056270a45"
      },
      "source": [
        "#  Kurtosis\n",
        "#This is a leptokurtic kurtosis which means the data contains outliers as the kurtosis is more than 0\n",
        "# ---\n",
        "mean=pd.read_csv('/content/Financial Dataset - 1 (1).csv')\n",
        "mean[\"household_size\"].kurt()"
      ],
      "execution_count": 135,
      "outputs": [
        {
          "output_type": "execute_result",
          "data": {
            "text/plain": [
              "1.1581542795310726"
            ]
          },
          "metadata": {
            "tags": []
          },
          "execution_count": 135
        }
      ]
    },
    {
      "cell_type": "code",
      "metadata": {
        "id": "cN5YUpsblCLC",
        "colab": {
          "base_uri": "https://localhost:8080/"
        },
        "outputId": "bfc3b41f-dc56-4bb6-8b88-14a852b8a1a6"
      },
      "source": [
        "# Displaying the summary statistics of the dataframe\n",
        "#\n",
        "mean=pd.read_csv('/content/Financial Dataset - 1 (1).csv')\n",
        "mean[\"household_size\"].describe()\n"
      ],
      "execution_count": 136,
      "outputs": [
        {
          "output_type": "execute_result",
          "data": {
            "text/plain": [
              "count    23496.000000\n",
              "mean         3.681818\n",
              "std          2.279933\n",
              "min          0.000000\n",
              "25%          2.000000\n",
              "50%          3.000000\n",
              "75%          5.000000\n",
              "max         21.000000\n",
              "Name: household_size, dtype: float64"
            ]
          },
          "metadata": {
            "tags": []
          },
          "execution_count": 136
        }
      ]
    },
    {
      "cell_type": "markdown",
      "metadata": {
        "id": "kKZFF5-Q6d5c"
      },
      "source": [
        "Visualisation Techniques"
      ]
    },
    {
      "cell_type": "markdown",
      "metadata": {
        "id": "32s_izI76icw"
      },
      "source": [
        "**Box Plots**"
      ]
    },
    {
      "cell_type": "code",
      "metadata": {
        "id": "Cf_cAZET6iHd",
        "colab": {
          "base_uri": "https://localhost:8080/",
          "height": 353
        },
        "outputId": "397ed251-5714-460d-886a-0b0507cbb6cc"
      },
      "source": [
        "#Boxplot\n",
        "# A boxplot is a standardized way of displaying the distribution of data based on a \n",
        "# five number summary (“minimum”, first quartile (Q1), median, third quartile (Q3), and “maximum”). \n",
        "# It can tell you about your outliers and what their values are. It can also tell you if your data is symmetrical, \n",
        "# how tightly your data is grouped, and if and how your data is skewed.\n",
        "mean=pd.read_csv('/content/Financial Dataset - 1 (1).csv')\n",
        "mean[\"household_size\"]\n",
        "# Creating the boxplot\n",
        "#\n",
        "sns.boxplot(mean[\"household_size\"], showmeans=True)\n"
      ],
      "execution_count": 137,
      "outputs": [
        {
          "output_type": "stream",
          "text": [
            "/usr/local/lib/python3.7/dist-packages/seaborn/_decorators.py:43: FutureWarning: Pass the following variable as a keyword arg: x. From version 0.12, the only valid positional argument will be `data`, and passing other arguments without an explicit keyword will result in an error or misinterpretation.\n",
            "  FutureWarning\n"
          ],
          "name": "stderr"
        },
        {
          "output_type": "execute_result",
          "data": {
            "text/plain": [
              "<matplotlib.axes._subplots.AxesSubplot at 0x7fa3b2541e10>"
            ]
          },
          "metadata": {
            "tags": []
          },
          "execution_count": 137
        },
        {
          "output_type": "display_data",
          "data": {
            "image/png": "[encoded data removed]",
            "text/plain": [
              "<Figure size 432x288 with 1 Axes>"
            ]
          },
          "metadata": {
            "tags": [],
            "needs_background": "light"
          }
        }
      ]
    },
    {
      "cell_type": "markdown",
      "metadata": {
        "id": "NqN2REVg6xM7"
      },
      "source": [
        "**Histograms**"
      ]
    },
    {
      "cell_type": "code",
      "metadata": {
        "id": "cGxxrtln66MY",
        "colab": {
          "base_uri": "https://localhost:8080/",
          "height": 282
        },
        "outputId": "37987517-a31e-4679-f5e5-4b067fb4eb48"
      },
      "source": [
        "\n",
        "\n",
        "# Plotting the histogram\n",
        "#\n",
        "mean=pd.read_csv('/content/Financial Dataset - 1 (1).csv')\n",
        "mean[\"household_size\"].hist()"
      ],
      "execution_count": 138,
      "outputs": [
        {
          "output_type": "execute_result",
          "data": {
            "text/plain": [
              "<matplotlib.axes._subplots.AxesSubplot at 0x7fa3af14b5d0>"
            ]
          },
          "metadata": {
            "tags": []
          },
          "execution_count": 138
        },
        {
          "output_type": "display_data",
          "data": {
            "image/png": "[encoded data removed]",
            "text/plain": [
              "<Figure size 432x288 with 1 Axes>"
            ]
          },
          "metadata": {
            "tags": [],
            "needs_background": "light"
          }
        }
      ]
    },
    {
      "cell_type": "markdown",
      "metadata": {
        "id": "y2tpmU6oFKHX"
      },
      "source": [
        "Bivariate Analysis"
      ]
    },
    {
      "cell_type": "code",
      "metadata": {
        "colab": {
          "base_uri": "https://localhost:8080/",
          "height": 294
        },
        "id": "Fd2nmXx8Lv1X",
        "outputId": "2a78ce0b-c9c0-43e9-9eb4-1f220e203fbb"
      },
      "source": [
        "\n",
        "# Question: Create a scatter plot between the household size and respondents age\n",
        "# Dataset url  = http://bit.ly/FinancialDataset \n",
        "# Dataset info = The main dataset contains demographic information and\n",
        "#what financial services are used by individuals across East Africa.\n",
        "# ---\n",
        "#\n",
        "\n",
        "# Loading our dataset\n",
        "financial_df = pd.read_csv('/content/Financial Dataset - 1 (1).csv')\n",
        "\n",
        "# Previewing our dataset\n",
        "financial_df.head()\n",
        "\n",
        "# Using Pandas: Plotting our scatterplot to compare the variables\n",
        "financial_df.plot(x = 'Respondent Age', y = 'household_size', kind='scatter')\n",
        "\n",
        "# Or Using Matplotlib: Plotting our scatterplot to compare the variables\n",
        "plt.scatter(financial_df['Respondent Age'] , financial_df['household_size'])\n",
        "\n",
        "# Or Using Seaborn: Using the function regplot to create our scatterplot\n",
        "sns.regplot(x = financial_df[\"Respondent Age\"], y = financial_df[\"household_size\"], fit_reg=False)\n",
        "\n",
        "# Giving our scatterplot a title\n",
        "plt.title('household_size vs respondents age')\n",
        "\n",
        "# Labelling our x axis\n",
        "plt.xlabel('respondents age')\n",
        "\n",
        "# Labelling our y axis\n",
        "plt.ylabel('household_size')\n",
        "\n",
        "# We then display our scatterplot as shown below\n",
        "plt.show()\n",
        "\n",
        "# The scatterplot graph shows the ages of respondents in houses\n",
        "#There is no relation between the respondents age and the number of people in the house."
      ],
      "execution_count": 139,
      "outputs": [
        {
          "output_type": "display_data",
          "data": {
            "image/png": "[encoded data removed]",
            "text/plain": [
              "<Figure size 432x288 with 1 Axes>"
            ]
          },
          "metadata": {
            "tags": [],
            "needs_background": "light"
          }
        }
      ]
    },
    {
      "cell_type": "markdown",
      "metadata": {
        "id": "AFhPv2-dMMbO"
      },
      "source": [
        "pearson coefficient"
      ]
    },
    {
      "cell_type": "code",
      "metadata": {
        "colab": {
          "base_uri": "https://localhost:8080/"
        },
        "id": "P9Im_QriLzNu",
        "outputId": "1e389d61-06fe-422e-f6f0-99a861e3eb65"
      },
      "source": [
        "\n",
        "# Question: Determine the relationship between the household size and respondents age \n",
        "# by determining the correlation coeffient.\n",
        "# Dataset url  = http://bit.ly/FinancialDataset \n",
        "# Dataset info = The main dataset contains demographic information and\n",
        "#what financial services are used by individuals across East Africa.\n",
        " \n",
        "# ---\n",
        "#\n",
        "\n",
        "# Loading the dataset\n",
        "financial_df = pd.read_csv('/content/Financial Dataset - 1 (1).csv') \n",
        "\n",
        "# Previewing the dataframe\n",
        "financial_df.head()\n",
        "\n",
        "# Checking whether you have to define the pearson\n",
        "coeff = financial_df[\"Respondent Age\"].corr(financial_df[\"household_size\"]) \n",
        "print(coeff)\n",
        "\n",
        "#The values respondent age and household size correlation is near zero showing no correlation between them"
      ],
      "execution_count": 140,
      "outputs": [
        {
          "output_type": "stream",
          "text": [
            "-0.1197092971464233\n"
          ],
          "name": "stdout"
        }
      ]
    },
    {
      "cell_type": "markdown",
      "metadata": {
        "id": "H9U6KYt3Mc0H"
      },
      "source": [
        "Categorical and Categorical"
      ]
    },
    {
      "cell_type": "markdown",
      "metadata": {
        "id": "g0Gzux9-MokA"
      },
      "source": [
        "Stacked column"
      ]
    },
    {
      "cell_type": "code",
      "metadata": {
        "colab": {
          "base_uri": "https://localhost:8080/",
          "height": 331
        },
        "id": "TeAK5SocLxwQ",
        "outputId": "4ff866ae-9f1b-41f0-ea35-5d1642b697e8"
      },
      "source": [
        "\n",
        "# Question: Create a stacked bar chart from the following dataset\n",
        "# Dataset url  = http://bit.ly/FinancialDataset \n",
        "# Dataset info = The main dataset contains demographic information and\n",
        "#what financial services are used by individuals across East Africa.\n",
        "# --- \n",
        "# \n",
        "\n",
        "# Loading our dataset\n",
        "financial_df = pd.read_csv(\"/content/Financial Dataset - 1 (1).csv\")\n",
        "fd=financial_df.groupby('country')\n",
        "fd['Has a Bank account'].value_counts().unstack().plot.bar(stacked=True)"
      ],
      "execution_count": 141,
      "outputs": [
        {
          "output_type": "execute_result",
          "data": {
            "text/plain": [
              "<matplotlib.axes._subplots.AxesSubplot at 0x7fa3b2df4410>"
            ]
          },
          "metadata": {
            "tags": []
          },
          "execution_count": 141
        },
        {
          "output_type": "display_data",
          "data": {
            "image/png": "[encoded data removed]",
            "text/plain": [
              "<Figure size 432x288 with 1 Axes>"
            ]
          },
          "metadata": {
            "tags": [],
            "needs_background": "light"
          }
        }
      ]
    },
    {
      "cell_type": "code",
      "metadata": {
        "colab": {
          "base_uri": "https://localhost:8080/",
          "height": 317
        },
        "id": "jV_QN9AnLxfU",
        "outputId": "8b8c783e-7b5b-45c1-9ec7-10d93ee748a3"
      },
      "source": [
        "#Who is more likely to have a bank account?People in urban areas\n",
        "#Who is less likely to have a bank account?People in rural areas\n",
        "\n",
        "fd=financial_df.groupby('Type of Location')\n",
        "\n",
        "fd['Has a Bank account'].value_counts().unstack().plot.bar(stacked=True)"
      ],
      "execution_count": 142,
      "outputs": [
        {
          "output_type": "execute_result",
          "data": {
            "text/plain": [
              "<matplotlib.axes._subplots.AxesSubplot at 0x7fa3aef43e90>"
            ]
          },
          "metadata": {
            "tags": []
          },
          "execution_count": 142
        },
        {
          "output_type": "display_data",
          "data": {
            "image/png": "[encoded data removed]",
            "text/plain": [
              "<Figure size 432x288 with 1 Axes>"
            ]
          },
          "metadata": {
            "tags": [],
            "needs_background": "light"
          }
        }
      ]
    },
    {
      "cell_type": "code",
      "metadata": {
        "colab": {
          "base_uri": "https://localhost:8080/",
          "height": 302
        },
        "id": "R4tBDJJDLw_Q",
        "outputId": "af8680ea-afaf-408f-c3ce-26e5ffa9ba5d"
      },
      "source": [
        "#Who is more likely to have a bank account?A person with a phone is likely to also have a bank account\n",
        "#However,there is a high population with phones who do not have bank accounts\n",
        "#Who is less likely to have a bank account?A person without access to a phone is not likely to have a bank account\n",
        "\n",
        "financial_df = pd.read_csv(\"/content/Financial Dataset - 1 (1).csv\")\n",
        "fd=financial_df.groupby('Cell Phone Access')\n",
        "\n",
        "fd['Has a Bank account'].value_counts().unstack().plot.bar(stacked=True)"
      ],
      "execution_count": 143,
      "outputs": [
        {
          "output_type": "execute_result",
          "data": {
            "text/plain": [
              "<matplotlib.axes._subplots.AxesSubplot at 0x7fa3b2583550>"
            ]
          },
          "metadata": {
            "tags": []
          },
          "execution_count": 143
        },
        {
          "output_type": "display_data",
          "data": {
            "image/png": "[encoded data removed]",
            "text/plain": [
              "<Figure size 432x288 with 1 Axes>"
            ]
          },
          "metadata": {
            "tags": [],
            "needs_background": "light"
          }
        }
      ]
    },
    {
      "cell_type": "code",
      "metadata": {
        "colab": {
          "base_uri": "https://localhost:8080/",
          "height": 323
        },
        "id": "eluC2tY8Lwq9",
        "outputId": "ead5e160-0f4f-406d-97e4-49e0a56a27ac"
      },
      "source": [
        "#more women do not have accounts as compared to their male counterparts\n",
        "financial_df = pd.read_csv(\"/content/Financial Dataset - 1 (1).csv\")\n",
        "fd=financial_df.groupby('gender_of_respondent')\n",
        "\n",
        "fd['Has a Bank account'].value_counts().unstack().plot.bar(stacked=True)"
      ],
      "execution_count": 144,
      "outputs": [
        {
          "output_type": "execute_result",
          "data": {
            "text/plain": [
              "<matplotlib.axes._subplots.AxesSubplot at 0x7fa3b2d7e210>"
            ]
          },
          "metadata": {
            "tags": []
          },
          "execution_count": 144
        },
        {
          "output_type": "display_data",
          "data": {
            "image/png": "[encoded data removed]",
            "text/plain": [
              "<Figure size 432x288 with 1 Axes>"
            ]
          },
          "metadata": {
            "tags": [],
            "needs_background": "light"
          }
        }
      ]
    },
    {
      "cell_type": "code",
      "metadata": {
        "colab": {
          "base_uri": "https://localhost:8080/",
          "height": 405
        },
        "id": "RiAloyu3NZcq",
        "outputId": "d4c53a69-e54a-4b2e-86af-868db5f5c1be"
      },
      "source": [
        "#while a high population of married people have accounts,they are also the same group with no bank accounts\n",
        "financial_df = pd.read_csv(\"/content/Financial Dataset - 1 (1).csv\")\n",
        "fd=financial_df.groupby('marital_status')\n",
        "\n",
        "fd['Has a Bank account'].value_counts().unstack().plot.bar(stacked=True)"
      ],
      "execution_count": 145,
      "outputs": [
        {
          "output_type": "execute_result",
          "data": {
            "text/plain": [
              "<matplotlib.axes._subplots.AxesSubplot at 0x7fa3aef78710>"
            ]
          },
          "metadata": {
            "tags": []
          },
          "execution_count": 145
        },
        {
          "output_type": "display_data",
          "data": {
            "image/png": "[encoded data removed]",
            "text/plain": [
              "<Figure size 432x288 with 1 Axes>"
            ]
          },
          "metadata": {
            "tags": [],
            "needs_background": "light"
          }
        }
      ]
    },
    {
      "cell_type": "code",
      "metadata": {
        "colab": {
          "base_uri": "https://localhost:8080/",
          "height": 447
        },
        "id": "wDuxcQYENZKJ",
        "outputId": "cc0ea2e0-42fb-4648-e007-52b88e956a30"
      },
      "source": [
        "#Majority of the population are either self employed,informally employed or self employed \n",
        "#yet these are the groups that have the highest number of no bank accounts\n",
        "financial_df = pd.read_csv(\"/content/Financial Dataset - 1 (1).csv\")\n",
        "fd=financial_df.groupby('Type of Job')\n",
        "\n",
        "fd['Has a Bank account'].value_counts().unstack().plot.bar(stacked=True)"
      ],
      "execution_count": 146,
      "outputs": [
        {
          "output_type": "execute_result",
          "data": {
            "text/plain": [
              "<matplotlib.axes._subplots.AxesSubplot at 0x7fa3af0427d0>"
            ]
          },
          "metadata": {
            "tags": []
          },
          "execution_count": 146
        },
        {
          "output_type": "display_data",
          "data": {
            "image/png": "[encoded data removed]",
            "text/plain": [
              "<Figure size 432x288 with 1 Axes>"
            ]
          },
          "metadata": {
            "tags": [],
            "needs_background": "light"
          }
        }
      ]
    },
    {
      "cell_type": "markdown",
      "metadata": {
        "id": "dWGUg0hMNxKq"
      },
      "source": [
        "Line graph of Bank account distribution"
      ]
    },
    {
      "cell_type": "code",
      "metadata": {
        "colab": {
          "base_uri": "https://localhost:8080/",
          "height": 300
        },
        "id": "NYCYd87kNYxP",
        "outputId": "f331e702-3140-430c-c825-e42cf031c09d"
      },
      "source": [
        "financial_df = pd.read_csv(\"/content/Financial Dataset - 1 (1).csv\")\n",
        "fd=financial_df.groupby('country')\n",
        "\n",
        "# Plotting our line graph\n",
        "fd['Has a Bank account'].value_counts().unstack().plot()\n",
        "\n",
        "\n",
        "# Giving a title to our line graph\n",
        "plt.title(\"Country with most bank accounts \", fontsize=14, y=1.015)\n",
        "\n",
        "# Labelling the y-axis\n",
        "plt.ylabel('Has a bank account')\n",
        "\n",
        "# Labelling the x-axis\n",
        "plt.xlabel('country')\n",
        "\n",
        "# Displaying our graph\n",
        "plt.show()"
      ],
      "execution_count": 147,
      "outputs": [
        {
          "output_type": "display_data",
          "data": {
            "image/png": "[encoded data removed]",
            "text/plain": [
              "<Figure size 432x288 with 1 Axes>"
            ]
          },
          "metadata": {
            "tags": [],
            "needs_background": "light"
          }
        }
      ]
    },
    {
      "cell_type": "markdown",
      "metadata": {
        "id": "JgTh-PtvQBOA"
      },
      "source": [
        "**Multivariate**"
      ]
    },
    {
      "cell_type": "code",
      "metadata": {
        "id": "Wwi1sqjWQH5f"
      },
      "source": [
        "#Linear Discriminant Analysis\n",
        "#Once dataset is loaded into a pandas data frame object, the first step is to divide dataset \n",
        "# into features and corresponding labels and then divide the resultant dataset into training and test sets. \n",
        "# The following code divides data into labels and feature set. \n",
        "# The code assigns the first four columns of the dataset i.e. the feature set to X variable \n",
        "# while the values in the fifth column (labels) are assigned to the y variable.\n",
        "#\n",
        "financial_df = pd.read_csv(\"/content/Financial Dataset - 1 (1).csv\")\n",
        "X = financial_df.iloc[:, 0:4].values\n",
        "y = financial_df.iloc[:, 4].values"
      ],
      "execution_count": 148,
      "outputs": []
    },
    {
      "cell_type": "code",
      "metadata": {
        "id": "ZXIoTXv-QQ3m"
      },
      "source": [
        "#The following code divides data into training and test sets\n",
        "#\n",
        "from sklearn.model_selection import train_test_split\n",
        "X_train, X_test, y_train, y_test = train_test_split(X, y, test_size=0.2, random_state=0)"
      ],
      "execution_count": 149,
      "outputs": []
    },
    {
      "cell_type": "code",
      "metadata": {
        "colab": {
          "base_uri": "https://localhost:8080/",
          "height": 132
        },
        "id": "PO5yJVBdQQnB",
        "outputId": "295e871c-f22d-4f6b-870d-92011db0bf60"
      },
      "source": [
        "#Feature scaling\n",
        "# We now need to perform feature scaling. We execute the following code to do so:\n",
        "# \n",
        "#import numpy as np\n",
        "#import matplotlib.pyplot as plt\n",
        "#import seaborn as sns\n",
        "import scipy as sp\n",
        "\n",
        "financial_df = pd.read_csv('/content/Financial Dataset - 1 (1).csv')\n",
        "financial_df.head()\n",
        "financial_df.reset_index(drop=True)\n",
        "financial_df['country']=pd.to_numeric(financial_df['country'],errors=\"coerce\")\n",
        "\n",
        "financial_df['country'] = (financial_df['country'].apply(lambda x: float(x.split()[0].replace(',', '')))\n",
        "\n",
        "from sklearn.preprocessing import StandardScaler\n",
        "sc = StandardScaler()\n",
        "X_train = sc.fit_transform(X_train)\n",
        "X_test = sc.transform(X_test)"
      ],
      "execution_count": 150,
      "outputs": [
        {
          "output_type": "error",
          "ename": "SyntaxError",
          "evalue": "ignored",
          "traceback": [
            "\u001b[0;36m  File \u001b[0;32m\"<ipython-input-150-6d4f3ff3dc81>\"\u001b[0;36m, line \u001b[0;32m16\u001b[0m\n\u001b[0;31m    from sklearn.preprocessing import StandardScaler\u001b[0m\n\u001b[0m       ^\u001b[0m\n\u001b[0;31mSyntaxError\u001b[0m\u001b[0;31m:\u001b[0m invalid syntax\n"
          ]
        }
      ]
    },
    {
      "cell_type": "code",
      "metadata": {
        "id": "KYXCeRwiQQX1"
      },
      "source": [
        " Peforming LDA\n",
        "# It requires only four lines of code to perform LDA with Scikit-Learn. \n",
        "# The LinearDiscriminantAnalysis class of the sklearn.discriminant_analysis \n",
        "# library can be used to Perform LDA in Python. \n",
        "# Let's take a look at the following code\n",
        "#\n",
        "\n",
        "from sklearn.discriminant_analysis import LinearDiscriminantAnalysis as LDA\n",
        "lda = LDA(n_components=1)\n",
        "X_train = lda.fit_transform(X_train, y_train)\n",
        "X_test = lda.transform(X_test)"
      ],
      "execution_count": null,
      "outputs": []
    },
    {
      "cell_type": "code",
      "metadata": {
        "id": "tLBkr-V1QzR1"
      },
      "source": [
        "#Training and Making Predictions\n",
        "# We will use the random forest classifier to evaluate the performance of a PCA-reduced algorithms as shown\n",
        "# \n",
        "\n",
        "from sklearn.ensemble import RandomForestClassifier\n",
        "\n",
        "classifier = RandomForestClassifier(max_depth=2, random_state=0)\n",
        "classifier.fit(X_train, y_train)\n",
        "y_pred = classifier.predict(X_test)"
      ],
      "execution_count": null,
      "outputs": []
    },
    {
      "cell_type": "code",
      "metadata": {
        "id": "2ENHS9fYQy9L"
      },
      "source": [
        "#accuracy test\n",
        "from sklearn.metrics import confusion_matrix\n",
        "from sklearn.metrics import accuracy_score\n",
        "\n",
        "owns_account = confusion_matrix(y_test, y_pred)\n",
        "print(owns_account)\n",
        "print('Accuracy' + str(accuracy_score(y_test, y_pred)))"
      ],
      "execution_count": null,
      "outputs": []
    }
  ]
}